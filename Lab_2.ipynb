{
  "nbformat": 4,
  "nbformat_minor": 0,
  "metadata": {
    "colab": {
      "name": "Lab 2.ipynb",
      "provenance": [],
      "collapsed_sections": [],
      "toc_visible": true,
      "authorship_tag": "ABX9TyPRLZDi3Rrqq6WEgcWq7crm",
      "include_colab_link": true
    },
    "kernelspec": {
      "name": "ir",
      "display_name": "R"
    }
  },
  "cells": [
    {
      "cell_type": "markdown",
      "metadata": {
        "id": "view-in-github",
        "colab_type": "text"
      },
      "source": [
        "<a href=\"https://colab.research.google.com/github/shawnwiggins/OLI_probability_and_statistics/blob/master/Lab_2.ipynb\" target=\"_parent\"><img src=\"https://colab.research.google.com/assets/colab-badge.svg\" alt=\"Open In Colab\"/></a>"
      ]
    },
    {
      "cell_type": "markdown",
      "metadata": {
        "id": "UQrE1XgghvOP"
      },
      "source": [
        "\n",
        "<center>\n",
        "<br>\n",
        "<img src=\"https://www.ccsf.edu/sites/default/files/inline-images/CCSF%20LOGO.png\" width = 30%/>\n",
        "<h1><strong>PROBABILITY AND STATISTICS</strong></h1>\n",
        "<h2>LAB 2</h2>\n",
        "<br><br>\n",
        "</center>"
      ]
    },
    {
      "cell_type": "markdown",
      "metadata": {
        "id": "t0TCqzglU-Hh"
      },
      "source": [
        "**Caution! Make sure that you are signed in to your Google account and that you have saved a copy of this notebook to your Drive. If you do not do this, then your work will not be saved.** \n",
        "\n",
        "In this lab, you will use the R ecosystem called [Tidyverse](https://www.tidyverse.org/) to work with actual NHANES government data from the CDC where you will:\n",
        "\n",
        "* Graphically and numerically summarize a categorical variable.\n",
        "* Graphically and numerically summarize a quantitative variable.\n",
        "* Remove outliers from a dataset using the 1.5IQR Method\n",
        "\n",
        "You should have attended the live meeting for the week or viewed the recording of that meeting before working on this assignment. The meeting contained a demonstration of tasks similar to what you are asked to do here. \n",
        "\n",
        "There are assigned DataCamp Assignments that help explain more about what is going on with Tidyverse. Also, you are encouraged to work together and get support in order to complete this assignment. Use the Pronto messenger in Canvas to ask the class for help.\n"
      ]
    },
    {
      "cell_type": "markdown",
      "metadata": {
        "id": "1SGPjrAK0pO8"
      },
      "source": [
        "## Task 0: Set Up the Lab\n",
        "\n",
        "Every lab assignment will need to be set up before you can begin and will need to be set up again if you ever have to quit working and come back.\n",
        "\n",
        "Run the following Code cell by pressing the \"play\" style button and wait for a SUCCESS statement. If you have any errors with the setup, make sure to contact the instructor for help."
      ]
    },
    {
      "cell_type": "code",
      "metadata": {
        "id": "AkwTRYqBjtiz",
        "cellView": "form"
      },
      "source": [
        "#@title **Set Up the Lab**\n",
        "\n",
        "print('The lab is being set up...')\n",
        "library(tidyverse)\n",
        "library(haven)\n",
        "DEMO_J <- read_xpt(file=\"https://wwwn.cdc.gov/Nchs/Nhanes/2017-2018/DEMO_J.XPT\")\n",
        "VIC_J <- read_xpt(file=\"https://wwwn.cdc.gov/Nchs/Nhanes/2017-2018/VIC_J.XPT\")\n",
        "\n",
        "print('SUCCESS: The lab is set up and ready to go!')"
      ],
      "execution_count": null,
      "outputs": []
    },
    {
      "cell_type": "markdown",
      "metadata": {
        "id": "sG_HaNZqF4eq"
      },
      "source": [
        "## National Health and Nutrition Examination Survey (NHANES)\n",
        "\n",
        "For several of the labs in this course, you will be exploring the results of the most recently [(2017-2018) published results](https://wwwn.cdc.gov/nchs/nhanes/continuousnhanes/default.aspx?BeginYear=2017) from the [National Health and Nutrition Examination Survey](https://www.cdc.gov/nchs/nhanes/index.htm) (NHANES). For the [video overview of NHANES](https://youtu.be/75Ur89rMsSA) for more insight into how the data is collected using mobile units across the country.\n",
        "\n",
        "\n"
      ]
    },
    {
      "cell_type": "markdown",
      "metadata": {
        "id": "dACgac8rMyNx"
      },
      "source": [
        "## NHANES 2017-2018 Demographics and Laboratory Data\n",
        "\n",
        "This lab uses demographics and laboratory data from NHANES.\n",
        "\n",
        "* The demongraphics data was downloaded from the NHANES website and saved in the data frame called `DEMO_J`. \n",
        "* The laboratory data for Vitamin C was downloaded from the NHANES website and saved in the data frame called `VIC_J`. \n",
        "\n",
        "This data contains many encoded variables. Review the [2017-2018 Demographics document file](https://wwwn.cdc.gov/Nchs/Nhanes/2017-2018/DEMO_J.htm) and [2017-2018 Vitamin C document file](https://wwwn.cdc.gov/Nchs/Nhanes/2017-2018/VIC_J.htm) the to understand what these cryptic variable names mean."
      ]
    },
    {
      "cell_type": "markdown",
      "metadata": {
        "id": "GnhgCpYdKNvn"
      },
      "source": [
        "### Missing Information\n",
        "\n",
        "In the last lab, you may have noticed a lot of `NA` values in the dataset. These are missing values! Although this is a very detailed study, there are still missing data values. Those that are familiar with surveys the medical world, know that there are often many blank answers to questions. There are many reasons why missing values exist in a dataset. Some of those reasons are unavoidable and some are avoidable.\n",
        "\n",
        "We need to address what we will do with the missing data. There are many techniques for dealing with missing values, but the simple technique is just to remove the individuals that have missing values. You will see this done with the `drop_na()` function. "
      ]
    },
    {
      "cell_type": "markdown",
      "metadata": {
        "id": "QzT28R8qNv22"
      },
      "source": [
        "## Lab Tasks"
      ]
    },
    {
      "cell_type": "markdown",
      "metadata": {
        "id": "h0wEUuvrx3Kr"
      },
      "source": [
        "### Categorical Variable Summaries\n",
        "\n",
        "Using the following tasks, summarize the distribution of the categorical variable that represents the education level of adults in the study. An adult in this study is someone that is 20 years old or older. These tasks will use the `DEMO_J` demographics data."
      ]
    },
    {
      "cell_type": "markdown",
      "metadata": {
        "id": "crXFm9jsUY-6"
      },
      "source": [
        "#### Task 1: Select, Cleanup, Save\n",
        "\n",
        "From the `DEMO_J` dataset:\n",
        "\n",
        "* Select the categorical variable that represents adult educational levels using `select()`.\n",
        "* Drop the individuals from the data set with missing values `NA` using `drop_na()`.\n",
        "* Assign the data to a variable named `adult_education_levels` using `<-`.\n",
        "* Use `glimpse()` to get check out `adult_education_levels`.\n",
        "\n",
        "You should notice that the values for this variable are encoded. You will need to look up what the values mean in the [2017-2018 Demographics document file](https://wwwn.cdc.gov/Nchs/Nhanes/2017-2018/DEMO_J.htm).\n",
        "\n",
        "\n"
      ]
    },
    {
      "cell_type": "code",
      "metadata": {
        "id": "tbQlyXwkQtFJ"
      },
      "source": [
        "# Save the cleaned up adult education level data to a new variable.\n"
      ],
      "execution_count": null,
      "outputs": []
    },
    {
      "cell_type": "markdown",
      "metadata": {
        "id": "bOHB6GYpSQFO"
      },
      "source": [
        "#### Task 2: Numerical Summaries\n",
        "\n",
        "Working from `adult_education_levels`, instead of `DEMO_J`:\n",
        "\n",
        "* Using `group_by()`, `summarize()`, and `mutate()`, create a relative frequency table with a column showing the frequency for the above variable and a column showing the relative frequency for the above variable.\n",
        "* Using `<-`, assign this table to variable name `adult_education_level_frequency_table`\n",
        "* Type `adult_education_levels_frequency_table` to see the table that you created."
      ]
    },
    {
      "cell_type": "code",
      "metadata": {
        "id": "GPmWndKlPie0"
      },
      "source": [
        "# Create a relative frequency table for a categorical variable.\n"
      ],
      "execution_count": null,
      "outputs": []
    },
    {
      "cell_type": "markdown",
      "metadata": {
        "id": "g2Zy201AXDfq"
      },
      "source": [
        "#### Task 3: Graphical Summaries\n",
        "\n",
        "The table that you created is very informative, but a good visual really goes a long way at summarizing data for most of us.\n",
        "\n",
        "* Using `ggplot()` with the layer `geom_col()` create a bar chart for the above variable. \n",
        "* Additionally, use `xlab()`, `ylab()`, and `ggtitle()` to add meaningful labels to the graphic."
      ]
    },
    {
      "cell_type": "code",
      "metadata": {
        "id": "Mp-8Px1_PTwT"
      },
      "source": [
        "# Create a bar chart summary for the distribution of this varaible\n"
      ],
      "execution_count": null,
      "outputs": []
    },
    {
      "cell_type": "markdown",
      "metadata": {
        "id": "--35b7DjYDkW"
      },
      "source": [
        "#### Task 4: Report your Findings\n",
        "\n",
        "Provide a short paragraph summary of the distribution of one of the categorical variables. Make sure your summary addresses the following items: \n",
        "* Specifically, identify the most frequent value(s) for the variable.\n",
        "* Specifically, identify the least frequent value(s) for the variable.\n",
        "* Point out anything you find interesting about the data in relation to how you view adults (20+) living in the United States.\n",
        "\n",
        "Again, the variable's values are encoded, so you will need to look up what the values mean in the [2017-2018 Demographics document file](https://wwwn.cdc.gov/Nchs/Nhanes/2017-2018/DEMO_J.htm)."
      ]
    },
    {
      "cell_type": "markdown",
      "metadata": {
        "id": "MjO5hiMOY4O7"
      },
      "source": [
        "*Replace this text with your response to this task.*\n"
      ]
    },
    {
      "cell_type": "markdown",
      "metadata": {
        "id": "74Y2k_pBx-xC"
      },
      "source": [
        "### Quantitative Variable Summaries\n",
        "\n",
        "Now, use the following tasks to summarize the distribution of the quantitative variable that represents the concentration levels of vitamin C (measured in milligrams per deciliter) for the individuals in the study. The following tasks will use the `VIC_J` vitamin C data."
      ]
    },
    {
      "cell_type": "markdown",
      "metadata": {
        "id": "7FNQ4xFhXygw"
      },
      "source": [
        "#### Task 5: Select, Cleanup, Save\n",
        "\n",
        "From the `VIC_J` dataset:\n",
        "\n",
        "* Select the quantitative variable that represents the concentration of vitamin C (measured in mg/DL) in the individual using `select()`,\n",
        "* Drop the individuals in the data set with missing values using `drop_na()`, and\n",
        "* Assign the data to a variable named `vitamin_C` using `<-`."
      ]
    },
    {
      "cell_type": "code",
      "metadata": {
        "id": "dpiCqN7pWDe4"
      },
      "source": [
        "# Save the cleaned up vitamin C concentration data to a new variable.\n"
      ],
      "execution_count": null,
      "outputs": []
    },
    {
      "cell_type": "markdown",
      "metadata": {
        "id": "8GbZw8SvcFE8"
      },
      "source": [
        "#### Task 6: Numerical Summaries\n",
        "\n",
        "Using `summarize()`, create a table that shows the mean, standard deviation, median, IQR, and range for the vitamin C concentration."
      ]
    },
    {
      "cell_type": "code",
      "metadata": {
        "id": "bbYALIwAcJoT"
      },
      "source": [
        "# Numerically summarize the distribution of the vitamin C variable.\n"
      ],
      "execution_count": null,
      "outputs": []
    },
    {
      "cell_type": "markdown",
      "metadata": {
        "id": "V_z6Q9I6yP2Y"
      },
      "source": [
        "#### Graphical Summaries\n",
        "\n",
        "There can feel like a never-ending amount of numerical summaries that can be used to summarize the distribution of a quantitative variable. Move on to create two common graphics for this type of data."
      ]
    },
    {
      "cell_type": "markdown",
      "metadata": {
        "id": "GoLjxOz5c0vZ"
      },
      "source": [
        "##### Task 7: Histogram\n",
        "\n",
        "* Using `ggplot()` with the layer `geom_histogram()`, create a histogram for the distribution of the above variable. Use `bins = 30` for the number of bins in the histogram. \n",
        "* Additionally, use `xlab()` and `ggtitle()` to add meaningful labels to the graphic."
      ]
    },
    {
      "cell_type": "code",
      "metadata": {
        "id": "D0oBrJg2c6G_"
      },
      "source": [
        "# Create a histogram for the distribution of the vitamin C data\n"
      ],
      "execution_count": null,
      "outputs": []
    },
    {
      "cell_type": "markdown",
      "metadata": {
        "id": "-wp-LaNKdT7p"
      },
      "source": [
        "##### Task 8: Boxplot\n",
        "\n",
        "* Using `ggplot()` with the layer `geom_boxplot()`, create a boxplot for the distribution of the above variable.\n",
        "* Additionally, use `xlab()` and `ggtitle()` to add meaningful labels to the graphic."
      ]
    },
    {
      "cell_type": "code",
      "metadata": {
        "id": "rNpbkeKidXCI"
      },
      "source": [
        "# Create a boxplot for the distribution of the vitamin C data\n"
      ],
      "execution_count": null,
      "outputs": []
    },
    {
      "cell_type": "markdown",
      "metadata": {
        "id": "1ZhmONyJdqPM"
      },
      "source": [
        "#### Task 9: Vitamin C Overdose?!\n",
        "\n",
        "Both of those graphics are pretty challenging to read because it seems like there are some outliers!\n",
        "\n",
        "* What is it about the boxplot (specifically) that indicates that there are outliers according to the 1.5 IQR method outlined in the OLI workbook?\n",
        "* What is your opinion about why these people have much more vitamin C in their bodies compared to the others? (Is there a logical reason, do you think it is a mistake by the CDC lab technicians, should the individuals be concerned, etc.?)"
      ]
    },
    {
      "cell_type": "markdown",
      "metadata": {
        "id": "Y1uE9KwkPGZ5"
      },
      "source": [
        "*Replace this text with your response to this task.*\n"
      ]
    },
    {
      "cell_type": "markdown",
      "metadata": {
        "id": "pN0dtTxmno07"
      },
      "source": [
        "#### Task 10: Remove the Outliers\n",
        "\n",
        "The OLI workbook says that any data values that are smaller than the value $Q1 - 1.5IQR$ or larger than the value $Q3 + 1.5IQR$ are outliers. This means that any data values between those two specifically calculated numbers are not outliers.\n",
        "\n",
        "* Using `filter()`, remove the outliers from `vitamin_C`.\n",
        "* Using `<-`, save the result as `vitamin_C_no_outliers`."
      ]
    },
    {
      "cell_type": "code",
      "metadata": {
        "id": "iUAYxYuTnvKL"
      },
      "source": [
        "# Remove the outliers according to the 1.5IQR method\n"
      ],
      "execution_count": null,
      "outputs": []
    },
    {
      "cell_type": "markdown",
      "metadata": {
        "id": "yenDKLtzpXMn"
      },
      "source": [
        "#### Task 11: Numerical Summaries ... Again\n",
        "\n",
        "Recalculate the numerical summaries from Task 6 for the vitamin C data now that the outliers have been removed."
      ]
    },
    {
      "cell_type": "code",
      "metadata": {
        "id": "yO0lTNVUpqry"
      },
      "source": [
        "# Numerically summarize the non-extreme vitamin C data\n"
      ],
      "execution_count": null,
      "outputs": []
    },
    {
      "cell_type": "markdown",
      "metadata": {
        "id": "LEFiS1UuphP2"
      },
      "source": [
        "#### Task 12: Graphical Summary Again\n",
        "\n",
        "Create a histogram to summarize the distribution of the vitamin C data now that the outliers have been removed. You can use 30 bins again for the histogram."
      ]
    },
    {
      "cell_type": "code",
      "metadata": {
        "id": "EG00ydaHojIn"
      },
      "source": [
        "# Create a histogram to summarize the distribution of vitamin_C_no_outliers\n"
      ],
      "execution_count": null,
      "outputs": []
    },
    {
      "cell_type": "markdown",
      "metadata": {
        "id": "koWFaJT4V6Kw"
      },
      "source": [
        "#### Task 13: Mean vs. Median\n",
        "\n",
        "Using the shape of the histogram in your reasoning, why is the mean value less than the median value?"
      ]
    },
    {
      "cell_type": "markdown",
      "metadata": {
        "id": "bkyAO89tWHyN"
      },
      "source": [
        "*Replace this text with your response to this task.*\n"
      ]
    },
    {
      "cell_type": "markdown",
      "metadata": {
        "id": "7IsjYeKevn09"
      },
      "source": [
        "#### Task 14: Normal Data\n",
        "\n",
        "Often in the scientific community, the word \"normal\" refers to when the histogram summary for the distribution of values is symmetric and unimodal. (*It is more specific than that, but let's avoid those details for now.*)\n",
        "\n",
        "You would think that the amount of vitamin C in a person's body is normally distributed, but it seems the case when looking at the histogram.\n",
        "\n",
        "* What visual evidence from the shape of the histogram suggests that this distribution is not normally distributed?\n",
        "* Run the following cell to see the proportion of the data values that are more than 2 standard deviations below the mean for this data set.\n"
      ]
    },
    {
      "cell_type": "code",
      "metadata": {
        "cellView": "form",
        "id": "ZCnejSddQyxb"
      },
      "source": [
        "#@title Run this calculation\n",
        "proportion_more_than_2sd_below_mean <- vitamin_C_no_outliers %>%\n",
        "  filter(LBXVIC < mean(LBXVIC) - 2*sd(LBXVIC)) %>%\n",
        "  count()/count(vitamin_C_no_outliers)\n",
        "\n",
        "cat('The proportion is ... ', proportion_more_than_2sd_below_mean[[1]], '😔')"
      ],
      "execution_count": null,
      "outputs": []
    },
    {
      "cell_type": "markdown",
      "metadata": {
        "id": "Qg_lfXUeTV1m"
      },
      "source": [
        "\n",
        "* Using the Standard Deviation Rule for normal data from the OLI workbook, what proportion of data values \"should\" be more than 2 standard deviations below the mean?\n",
        "* Provide your opinion as to why you think the vitamin C data is not more normal in shape. Again, normal refers to the unimodal, symmetric shape."
      ]
    },
    {
      "cell_type": "markdown",
      "metadata": {
        "id": "xx69Yal5WIo0"
      },
      "source": [
        "*Replace this text with your response to this task.*\n"
      ]
    },
    {
      "cell_type": "markdown",
      "metadata": {
        "id": "0Ul02EjSUpWP"
      },
      "source": [
        "# Submit the Lab\n",
        "\n",
        "1. Double-check that you completed all the Lab Tasks.\n",
        "2. Submit the Share link to this notebook by doing the following:\n",
        "  1. Click the **Share** button at the top of this page.\n",
        "  2. Click **Change** within the Get Link section of the pop-up.\n",
        "  3. Change **Viewer** to **Commenter** within the Get Link section of the pop-up. \n",
        "  4. Click **Copy link** within the Get Link section of the pop-up.\n",
        "\n"
      ]
    }
  ]
}