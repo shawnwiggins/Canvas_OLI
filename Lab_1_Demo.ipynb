{
  "nbformat": 4,
  "nbformat_minor": 0,
  "metadata": {
    "colab": {
      "name": "Lab 1 Demo.ipynb",
      "provenance": [],
      "collapsed_sections": [],
      "toc_visible": true,
      "authorship_tag": "ABX9TyPFIryS+/XM0FKUP8aDcGQs",
      "include_colab_link": true
    },
    "kernelspec": {
      "name": "ir",
      "display_name": "R"
    }
  },
  "cells": [
    {
      "cell_type": "markdown",
      "metadata": {
        "id": "view-in-github",
        "colab_type": "text"
      },
      "source": [
        "<a href=\"https://colab.research.google.com/github/shawnwiggins/OLI_probability_and_statistics/blob/master/Lab_1_Demo.ipynb\" target=\"_parent\"><img src=\"https://colab.research.google.com/assets/colab-badge.svg\" alt=\"Open In Colab\"/></a>"
      ]
    },
    {
      "cell_type": "markdown",
      "metadata": {
        "id": "UQrE1XgghvOP"
      },
      "source": [
        "\n",
        "<center>\n",
        "<br>\n",
        "<img src=\"https://www.ccsf.edu/sites/default/files/inline-images/CCSF%20LOGO.png\" width = 35%/>\n",
        "<h1><strong>PROBABILITY AND STATISTICS</strong></h1>\n",
        "<h2>LAB 1</h2>\n",
        "<br><br>\n",
        "</center>"
      ]
    },
    {
      "cell_type": "markdown",
      "metadata": {
        "id": "t0TCqzglU-Hh"
      },
      "source": [
        "Prior to attempting this lab, \n",
        "\n",
        "\n",
        "1. You should have attended the live meeting for Week 1 or viewed the recording of that meeting. That meeting should have contained a demonstration of tasks similar to what you are asked to do here.\n",
        "2. You should have completed the first two chapters of the DataCamp course [Introduction to the Tidyverse](https://learn.datacamp.com/courses/introduction-to-the-tidyverse):\n",
        "\n",
        "  * Data wrangling\n",
        "  * Data visualization\n",
        "\n",
        "\n",
        "\n",
        "\n"
      ]
    },
    {
      "cell_type": "code",
      "metadata": {
        "id": "AkwTRYqBjtiz",
        "colab": {
          "base_uri": "https://localhost:8080/"
        },
        "cellView": "form",
        "outputId": "6279b533-c98e-4bdc-9398-1073e8152f87"
      },
      "source": [
        "#@title **Set Up the Lab**\n",
        "#@markdown In order to work on this lab, you need to run this cell first.\n",
        "\n",
        "print('The lab is being set up...')\n",
        "library(tidyverse)\n",
        "library(haven)\n",
        "DEMO_J <- read_xpt(file=\"https://wwwn.cdc.gov/Nchs/Nhanes/2017-2018/DEMO_J.XPT\")\n",
        "print('SUCCESS: The lab is set up and ready to go!')"
      ],
      "execution_count": 1,
      "outputs": [
        {
          "output_type": "stream",
          "text": [
            "[1] \"The lab is being set up...\"\n"
          ],
          "name": "stdout"
        },
        {
          "output_type": "stream",
          "text": [
            "── \u001b[1mAttaching packages\u001b[22m ─────────────────────────────────────── tidyverse 1.3.0 ──\n",
            "\n",
            "\u001b[32m✔\u001b[39m \u001b[34mggplot2\u001b[39m 3.3.3     \u001b[32m✔\u001b[39m \u001b[34mpurrr  \u001b[39m 0.3.4\n",
            "\u001b[32m✔\u001b[39m \u001b[34mtibble \u001b[39m 3.0.4     \u001b[32m✔\u001b[39m \u001b[34mdplyr  \u001b[39m 1.0.2\n",
            "\u001b[32m✔\u001b[39m \u001b[34mtidyr  \u001b[39m 1.1.2     \u001b[32m✔\u001b[39m \u001b[34mstringr\u001b[39m 1.4.0\n",
            "\u001b[32m✔\u001b[39m \u001b[34mreadr  \u001b[39m 1.4.0     \u001b[32m✔\u001b[39m \u001b[34mforcats\u001b[39m 0.5.0\n",
            "\n",
            "── \u001b[1mConflicts\u001b[22m ────────────────────────────────────────── tidyverse_conflicts() ──\n",
            "\u001b[31m✖\u001b[39m \u001b[34mdplyr\u001b[39m::\u001b[32mfilter()\u001b[39m masks \u001b[34mstats\u001b[39m::filter()\n",
            "\u001b[31m✖\u001b[39m \u001b[34mdplyr\u001b[39m::\u001b[32mlag()\u001b[39m    masks \u001b[34mstats\u001b[39m::lag()\n",
            "\n"
          ],
          "name": "stderr"
        },
        {
          "output_type": "stream",
          "text": [
            "[1] \"SUCCESS: The lab is set up and ready to go!\"\n"
          ],
          "name": "stdout"
        }
      ]
    },
    {
      "cell_type": "markdown",
      "metadata": {
        "id": "sG_HaNZqF4eq"
      },
      "source": [
        "## National Health and Nutrition Examination Survey (NHANES)\n",
        "\n",
        "For several of the labs in this course, you will be exploring the results of the most recently [(2017-2018) published results](https://wwwn.cdc.gov/nchs/nhanes/continuousnhanes/default.aspx?BeginYear=2017) from the [National Health and Nutrition Examination Survey](https://www.cdc.gov/nchs/nhanes/index.htm) (NHANES). According to the Centers for Disease Control and Prevention (CDC) [About NHANES](https://www.cdc.gov/nchs/nhanes/about_nhanes.htm) page for this program:\n",
        "\n",
        "> \"The National Health and Nutrition Examination Survey (NHANES) is a program of studies designed to assess the health and nutritional status of adults and children in the United States. The survey is unique in that it combines interviews and physical examinations. NHANES is a major program of the National Center for Health Statistics (NCHS). NCHS is part of the Centers for Disease Control and Prevention (CDC) and has the responsibility for producing vital and health statistics for the Nation. <br><br> The NHANES program began in the early 1960s and has been conducted as a series of surveys focusing on different population groups or health topics. In 1999, the survey became a continuous program that has a changing focus on a variety of health and nutrition measurements to meet emerging needs. The survey examines a nationally representative sample of about 5,000 persons each year. These persons are located in counties across the country, 15 of which are visited each year. <br><br> The NHANES interview includes demographic, socioeconomic, dietary, and health-related questions. The examination component consists of medical, dental, and physiological measurements, as well as laboratory tests administered by highly trained medical personnel. <br><br> Findings from this survey will be used to determine the prevalence of major diseases and risk factors for diseases. Information will be used to assess nutritional status and its association with health promotion and disease prevention. NHANES findings are also the basis for national standards for such measurements as height, weight, and blood pressure. Data from this survey will be used in epidemiological studies and health sciences research, which help develop sound public health policy, direct and design health programs and services, and expand the health knowledge for the Nation.\"\n",
        "\n",
        "For the [video overview of NHANES](https://youtu.be/75Ur89rMsSA) for more insight into how the data is collected using mobile units across the country.\n",
        "\n",
        "\n"
      ]
    },
    {
      "cell_type": "markdown",
      "metadata": {
        "id": "dACgac8rMyNx"
      },
      "source": [
        "## NHANES 2017-2018 Demographics Data\n",
        "\n",
        "The first data set from NHANES that you will look at is the data on the demographics of those surveyed. This data was downloaded from the NHANES website and saved in the data frame called `DEMO_J`. It contains many variables that have been encoded. To help navigate this information, the [2017-2018 Demographics document file](https://wwwn.cdc.gov/Nchs/Nhanes/2017-2018/DEMO_J.htm) has been published to understand what the cryptic varaible names refer to."
      ]
    },
    {
      "cell_type": "markdown",
      "metadata": {
        "id": "QzT28R8qNv22"
      },
      "source": [
        "## Lab Tasks"
      ]
    },
    {
      "cell_type": "markdown",
      "metadata": {
        "id": "bOHB6GYpSQFO"
      },
      "source": [
        "### Task 1: Glimpse the Data\n",
        "\n",
        "In the following Code cell, use the `glimpse()` function to preview the data in `DEMO_J`."
      ]
    },
    {
      "cell_type": "code",
      "metadata": {
        "colab": {
          "base_uri": "https://localhost:8080/"
        },
        "id": "GPmWndKlPie0",
        "outputId": "5266843b-8b32-4a03-c3fc-5b9d64d41aeb"
      },
      "source": [
        "# Replace the following ... with the code to \n",
        "# glimpse at the NHANES demongraphics data.\n",
        "glimpse(DEMO_J)"
      ],
      "execution_count": 2,
      "outputs": [
        {
          "output_type": "stream",
          "text": [
            "Rows: 9,254\n",
            "Columns: 46\n",
            "$ SEQN     \u001b[3m\u001b[90m<dbl>\u001b[39m\u001b[23m 93703, 93704, 93705, 93706, 93707, 93708, 93709, 93710, 9371…\n",
            "$ SDDSRVYR \u001b[3m\u001b[90m<dbl>\u001b[39m\u001b[23m 10, 10, 10, 10, 10, 10, 10, 10, 10, 10, 10, 10, 10, 10, 10, …\n",
            "$ RIDSTATR \u001b[3m\u001b[90m<dbl>\u001b[39m\u001b[23m 2, 2, 2, 2, 2, 2, 2, 2, 2, 2, 2, 2, 2, 2, 2, 2, 2, 2, 2, 2, …\n",
            "$ RIAGENDR \u001b[3m\u001b[90m<dbl>\u001b[39m\u001b[23m 2, 1, 2, 1, 1, 2, 2, 2, 1, 1, 1, 2, 1, 1, 1, 1, 2, 2, 2, 2, …\n",
            "$ RIDAGEYR \u001b[3m\u001b[90m<dbl>\u001b[39m\u001b[23m 2, 2, 66, 18, 13, 66, 75, 0, 56, 18, 67, 54, 71, 61, 22, 45,…\n",
            "$ RIDAGEMN \u001b[3m\u001b[90m<dbl>\u001b[39m\u001b[23m NA, NA, NA, NA, NA, NA, NA, 11, NA, NA, NA, NA, NA, NA, NA, …\n",
            "$ RIDRETH1 \u001b[3m\u001b[90m<dbl>\u001b[39m\u001b[23m 5, 3, 4, 5, 5, 5, 4, 3, 5, 1, 3, 4, 5, 5, 3, 4, 3, 4, 1, 3, …\n",
            "$ RIDRETH3 \u001b[3m\u001b[90m<dbl>\u001b[39m\u001b[23m 6, 3, 4, 6, 7, 6, 4, 3, 6, 1, 3, 4, 7, 6, 3, 4, 3, 4, 1, 3, …\n",
            "$ RIDEXMON \u001b[3m\u001b[90m<dbl>\u001b[39m\u001b[23m 2, 1, 2, 2, 2, 2, 1, 2, 2, 2, 1, 2, 2, 1, 2, 1, 2, 1, 1, 1, …\n",
            "$ RIDEXAGM \u001b[3m\u001b[90m<dbl>\u001b[39m\u001b[23m 27, 33, NA, 222, 158, NA, NA, 13, NA, 227, NA, NA, NA, NA, N…\n",
            "$ DMQMILIZ \u001b[3m\u001b[90m<dbl>\u001b[39m\u001b[23m NA, NA, 2, 2, NA, 2, 2, NA, 2, 2, 1, 2, 2, 2, 1, 2, NA, NA, …\n",
            "$ DMQADFC  \u001b[3m\u001b[90m<dbl>\u001b[39m\u001b[23m NA, NA, NA, NA, NA, NA, NA, NA, NA, NA, 1, NA, NA, NA, 2, NA…\n",
            "$ DMDBORN4 \u001b[3m\u001b[90m<dbl>\u001b[39m\u001b[23m 1, 1, 1, 1, 1, 2, 1, 1, 2, 2, 1, 1, 1, 2, 1, 1, 1, 1, 2, 2, …\n",
            "$ DMDCITZN \u001b[3m\u001b[90m<dbl>\u001b[39m\u001b[23m 1, 1, 1, 1, 1, 1, 1, 1, 1, 2, 1, 1, 1, 1, 1, 1, 1, 1, 1, 1, …\n",
            "$ DMDYRSUS \u001b[3m\u001b[90m<dbl>\u001b[39m\u001b[23m NA, NA, NA, NA, NA, 7, NA, NA, 6, 5, NA, NA, NA, 7, NA, NA, …\n",
            "$ DMDEDUC3 \u001b[3m\u001b[90m<dbl>\u001b[39m\u001b[23m NA, NA, NA, 15, 6, NA, NA, NA, NA, 12, NA, NA, NA, NA, NA, N…\n",
            "$ DMDEDUC2 \u001b[3m\u001b[90m<dbl>\u001b[39m\u001b[23m NA, NA, 2, NA, NA, 1, 4, NA, 5, NA, 3, 4, 3, 5, 3, 3, NA, NA…\n",
            "$ DMDMARTL \u001b[3m\u001b[90m<dbl>\u001b[39m\u001b[23m NA, NA, 3, NA, NA, 1, 2, NA, 1, NA, 3, 1, 1, 1, 5, 5, NA, NA…\n",
            "$ RIDEXPRG \u001b[3m\u001b[90m<dbl>\u001b[39m\u001b[23m NA, NA, NA, NA, NA, NA, NA, NA, NA, NA, NA, NA, NA, NA, NA, …\n",
            "$ SIALANG  \u001b[3m\u001b[90m<dbl>\u001b[39m\u001b[23m 1, 1, 1, 1, 1, 1, 1, 1, 1, 1, 1, 1, 1, 1, 1, 1, 1, 1, 2, 1, …\n",
            "$ SIAPROXY \u001b[3m\u001b[90m<dbl>\u001b[39m\u001b[23m 1, 1, 2, 2, 1, 2, 2, 1, 2, 2, 2, 2, 2, 2, 2, 1, 1, 1, 2, 2, …\n",
            "$ SIAINTRP \u001b[3m\u001b[90m<dbl>\u001b[39m\u001b[23m 2, 2, 2, 2, 2, 1, 2, 2, 2, 2, 2, 2, 2, 2, 2, 2, 2, 2, 1, 2, …\n",
            "$ FIALANG  \u001b[3m\u001b[90m<dbl>\u001b[39m\u001b[23m 1, 1, 1, NA, 1, 1, 1, 1, 1, 2, 1, 1, 1, 1, 1, 1, 1, 1, 2, 1,…\n",
            "$ FIAPROXY \u001b[3m\u001b[90m<dbl>\u001b[39m\u001b[23m 2, 2, 2, NA, 2, 2, 2, 2, 2, 2, 2, 2, 2, 2, 2, 2, 2, 2, 2, 2,…\n",
            "$ FIAINTRP \u001b[3m\u001b[90m<dbl>\u001b[39m\u001b[23m 2, 2, 2, NA, 2, 2, 2, 2, 2, 2, 2, 2, 2, 2, 2, 2, 2, 2, 1, 2,…\n",
            "$ MIALANG  \u001b[3m\u001b[90m<dbl>\u001b[39m\u001b[23m NA, NA, 1, 1, 1, 1, NA, NA, 1, 1, 1, 1, 1, 1, 1, 1, 1, NA, 2…\n",
            "$ MIAPROXY \u001b[3m\u001b[90m<dbl>\u001b[39m\u001b[23m NA, NA, 2, 2, 2, 2, NA, NA, 2, 2, 2, 2, 2, 2, 2, 1, 2, NA, 2…\n",
            "$ MIAINTRP \u001b[3m\u001b[90m<dbl>\u001b[39m\u001b[23m NA, NA, 2, 2, 2, 1, NA, NA, 2, 2, 2, 2, 2, 2, 2, 2, 2, NA, 2…\n",
            "$ AIALANGA \u001b[3m\u001b[90m<dbl>\u001b[39m\u001b[23m NA, NA, 1, 1, 1, 3, NA, NA, 1, 1, 1, 1, NA, 1, 1, NA, 1, NA,…\n",
            "$ DMDHHSIZ \u001b[3m\u001b[90m<dbl>\u001b[39m\u001b[23m 5, 4, 1, 5, 7, 2, 1, 3, 3, 4, 1, 3, 5, 3, 2, 7, 3, 3, 2, 1, …\n",
            "$ DMDFMSIZ \u001b[3m\u001b[90m<dbl>\u001b[39m\u001b[23m 5, 4, 1, 5, 7, 2, 1, 3, 3, 4, 1, 3, 5, 3, 1, 7, 3, 3, 2, 1, …\n",
            "$ DMDHHSZA \u001b[3m\u001b[90m<dbl>\u001b[39m\u001b[23m 3, 2, 0, 0, 0, 0, 0, 1, 0, 0, 0, 0, 1, 0, 0, 3, 0, 1, 0, 0, …\n",
            "$ DMDHHSZB \u001b[3m\u001b[90m<dbl>\u001b[39m\u001b[23m 0, 0, 0, 0, 3, 0, 0, 0, 0, 2, 0, 1, 2, 0, 0, 1, 2, 0, 0, 0, …\n",
            "$ DMDHHSZE \u001b[3m\u001b[90m<dbl>\u001b[39m\u001b[23m 0, 0, 1, 1, 0, 2, 1, 0, 0, 0, 1, 0, 1, 1, 0, 0, 0, 0, 2, 1, …\n",
            "$ DMDHRGND \u001b[3m\u001b[90m<dbl>\u001b[39m\u001b[23m 1, 1, 2, 1, 1, 1, 2, 1, 1, 2, 1, 1, 1, 1, 1, 2, 2, 2, 2, 2, …\n",
            "$ DMDHRAGZ \u001b[3m\u001b[90m<dbl>\u001b[39m\u001b[23m 2, 2, 4, 4, 3, 4, 4, 2, 3, 3, 4, 3, 4, 4, 2, 3, 2, 2, 4, 4, …\n",
            "$ DMDHREDZ \u001b[3m\u001b[90m<dbl>\u001b[39m\u001b[23m 3, 3, 1, 3, 2, 1, 2, 3, 3, 1, 2, 2, 2, 3, NA, 2, 2, 2, 1, 2,…\n",
            "$ DMDHRMAZ \u001b[3m\u001b[90m<dbl>\u001b[39m\u001b[23m 1, 1, 2, 1, 1, 1, 2, 1, 1, 2, 2, 1, 1, 1, 3, 2, 2, 1, 1, 2, …\n",
            "$ DMDHSEDZ \u001b[3m\u001b[90m<dbl>\u001b[39m\u001b[23m 3, 2, NA, 2, 3, 1, NA, 3, 3, NA, NA, 2, 2, 3, NA, NA, NA, NA…\n",
            "$ WTINT2YR \u001b[3m\u001b[90m<dbl>\u001b[39m\u001b[23m 9246.492, 37338.768, 8614.571, 8548.633, 6769.345, 13329.451…\n",
            "$ WTMEC2YR \u001b[3m\u001b[90m<dbl>\u001b[39m\u001b[23m 8539.731, 42566.615, 8338.420, 8723.440, 7064.610, 14372.489…\n",
            "$ SDMVPSU  \u001b[3m\u001b[90m<dbl>\u001b[39m\u001b[23m 2, 1, 2, 2, 1, 2, 1, 1, 2, 2, 1, 1, 2, 1, 1, 1, 1, 1, 2, 1, …\n",
            "$ SDMVSTRA \u001b[3m\u001b[90m<dbl>\u001b[39m\u001b[23m 145, 143, 145, 134, 138, 138, 136, 134, 134, 147, 140, 147, …\n",
            "$ INDHHIN2 \u001b[3m\u001b[90m<dbl>\u001b[39m\u001b[23m 15, 15, 3, NA, 10, 6, 2, 15, 15, 4, 6, 7, 8, 15, NA, 10, 14,…\n",
            "$ INDFMIN2 \u001b[3m\u001b[90m<dbl>\u001b[39m\u001b[23m 15, 15, 3, NA, 10, 6, 2, 15, 15, 4, 6, 7, 8, 15, 4, 10, 14, …\n",
            "$ INDFMPIR \u001b[3m\u001b[90m<dbl>\u001b[39m\u001b[23m 5.00, 5.00, 0.82, NA, 1.88, 1.63, 0.41, 4.90, 5.00, 0.76, 2.…\n"
          ],
          "name": "stdout"
        }
      ]
    },
    {
      "cell_type": "markdown",
      "metadata": {
        "id": "g2Zy201AXDfq"
      },
      "source": [
        "### Task 2: Identify Variables\n",
        "\n",
        "Using the [2017-2018 Demographics document file](https://wwwn.cdc.gov/Nchs/Nhanes/2017-2018/DEMO_J.htm), find one categorical variable and one responce variable in the data set different from the variables demonstated in the live meeting (`SEQN` and `SDMVSTRA`). In the following Text cell, write a short description of what the variable reprsents and why you think it is categorical or quantiative."
      ]
    },
    {
      "cell_type": "markdown",
      "metadata": {
        "id": "df8wU8r1R3Hf"
      },
      "source": [
        "\n",
        "*   A categorical variable is *replace with the coded variable name*. This variable represents *replace with a description of the variable*. I think it is categorical becuase *replace with your reason.*\n",
        "*   A quantiative variable is *replace with the coded variable name*. This variable represents *replace with a description of the variable*. I think it is quantitative becuase *replace with your reason.*"
      ]
    },
    {
      "cell_type": "markdown",
      "metadata": {
        "id": "7FNQ4xFhXygw"
      },
      "source": [
        "### Task 3: Select Variables\n",
        "\n",
        "The `select()` verb allows you to select certain variables form a data frame. Using the pipe operator `%>%` and the `select()` verb, select the the two variables you listed above from the data set `DEMO_J`."
      ]
    },
    {
      "cell_type": "code",
      "metadata": {
        "colab": {
          "base_uri": "https://localhost:8080/",
          "height": 1000
        },
        "id": "dpiCqN7pWDe4",
        "outputId": "c0992eb8-8da9-48f3-aec6-821601b026fa"
      },
      "source": [
        "DEMO_J %>%\n",
        "  select(c(SEQN, INDFMPIR))"
      ],
      "execution_count": 3,
      "outputs": [
        {
          "output_type": "display_data",
          "data": {
            "text/plain": [
              "     SEQN   INDFMPIR\n",
              "1    93703  5.00    \n",
              "2    93704  5.00    \n",
              "3    93705  0.82    \n",
              "4    93706    NA    \n",
              "5    93707  1.88    \n",
              "6    93708  1.63    \n",
              "7    93709  0.41    \n",
              "8    93710  4.90    \n",
              "9    93711  5.00    \n",
              "10   93712  0.76    \n",
              "11   93713  2.65    \n",
              "12   93714  1.86    \n",
              "13   93715  1.56    \n",
              "14   93716  5.00    \n",
              "15   93717  1.49    \n",
              "16   93718  1.18    \n",
              "17   93719  3.92    \n",
              "18   93720  4.77    \n",
              "19   93721  3.04    \n",
              "20   93722  2.07    \n",
              "21   93723  3.69    \n",
              "22   93724  0.42    \n",
              "23   93725  5.00    \n",
              "24   93726  1.85    \n",
              "25   93727  5.00    \n",
              "26   93728  5.00    \n",
              "27   93729  0.83    \n",
              "28   93730    NA    \n",
              "29   93731  5.00    \n",
              "30   93732  1.13    \n",
              "⋮    ⋮      ⋮       \n",
              "9225 102927 4.00    \n",
              "9226 102928 1.30    \n",
              "9227 102929   NA    \n",
              "9228 102930   NA    \n",
              "9229 102931 4.25    \n",
              "9230 102932 5.00    \n",
              "9231 102933 1.66    \n",
              "9232 102934 2.89    \n",
              "9233 102935 0.85    \n",
              "9234 102936   NA    \n",
              "9235 102937 4.88    \n",
              "9236 102938 0.83    \n",
              "9237 102939 0.73    \n",
              "9238 102940   NA    \n",
              "9239 102941 1.14    \n",
              "9240 102942 2.46    \n",
              "9241 102943 4.31    \n",
              "9242 102944 3.59    \n",
              "9243 102945   NA    \n",
              "9244 102946 2.79    \n",
              "9245 102947 4.28    \n",
              "9246 102948 5.00    \n",
              "9247 102949 1.01    \n",
              "9248 102950 2.13    \n",
              "9249 102951 1.75    \n",
              "9250 102952 0.95    \n",
              "9251 102953   NA    \n",
              "9252 102954 1.18    \n",
              "9253 102955 2.24    \n",
              "9254 102956 1.56    "
            ],
            "text/latex": "A tibble: 9254 × 2\n\\begin{tabular}{ll}\n SEQN & INDFMPIR\\\\\n <dbl> & <dbl>\\\\\n\\hline\n\t 93703 & 5.00\\\\\n\t 93704 & 5.00\\\\\n\t 93705 & 0.82\\\\\n\t 93706 &   NA\\\\\n\t 93707 & 1.88\\\\\n\t 93708 & 1.63\\\\\n\t 93709 & 0.41\\\\\n\t 93710 & 4.90\\\\\n\t 93711 & 5.00\\\\\n\t 93712 & 0.76\\\\\n\t 93713 & 2.65\\\\\n\t 93714 & 1.86\\\\\n\t 93715 & 1.56\\\\\n\t 93716 & 5.00\\\\\n\t 93717 & 1.49\\\\\n\t 93718 & 1.18\\\\\n\t 93719 & 3.92\\\\\n\t 93720 & 4.77\\\\\n\t 93721 & 3.04\\\\\n\t 93722 & 2.07\\\\\n\t 93723 & 3.69\\\\\n\t 93724 & 0.42\\\\\n\t 93725 & 5.00\\\\\n\t 93726 & 1.85\\\\\n\t 93727 & 5.00\\\\\n\t 93728 & 5.00\\\\\n\t 93729 & 0.83\\\\\n\t 93730 &   NA\\\\\n\t 93731 & 5.00\\\\\n\t 93732 & 1.13\\\\\n\t ⋮ & ⋮\\\\\n\t 102927 & 4.00\\\\\n\t 102928 & 1.30\\\\\n\t 102929 &   NA\\\\\n\t 102930 &   NA\\\\\n\t 102931 & 4.25\\\\\n\t 102932 & 5.00\\\\\n\t 102933 & 1.66\\\\\n\t 102934 & 2.89\\\\\n\t 102935 & 0.85\\\\\n\t 102936 &   NA\\\\\n\t 102937 & 4.88\\\\\n\t 102938 & 0.83\\\\\n\t 102939 & 0.73\\\\\n\t 102940 &   NA\\\\\n\t 102941 & 1.14\\\\\n\t 102942 & 2.46\\\\\n\t 102943 & 4.31\\\\\n\t 102944 & 3.59\\\\\n\t 102945 &   NA\\\\\n\t 102946 & 2.79\\\\\n\t 102947 & 4.28\\\\\n\t 102948 & 5.00\\\\\n\t 102949 & 1.01\\\\\n\t 102950 & 2.13\\\\\n\t 102951 & 1.75\\\\\n\t 102952 & 0.95\\\\\n\t 102953 &   NA\\\\\n\t 102954 & 1.18\\\\\n\t 102955 & 2.24\\\\\n\t 102956 & 1.56\\\\\n\\end{tabular}\n",
            "text/markdown": "\nA tibble: 9254 × 2\n\n| SEQN &lt;dbl&gt; | INDFMPIR &lt;dbl&gt; |\n|---|---|\n| 93703 | 5.00 |\n| 93704 | 5.00 |\n| 93705 | 0.82 |\n| 93706 |   NA |\n| 93707 | 1.88 |\n| 93708 | 1.63 |\n| 93709 | 0.41 |\n| 93710 | 4.90 |\n| 93711 | 5.00 |\n| 93712 | 0.76 |\n| 93713 | 2.65 |\n| 93714 | 1.86 |\n| 93715 | 1.56 |\n| 93716 | 5.00 |\n| 93717 | 1.49 |\n| 93718 | 1.18 |\n| 93719 | 3.92 |\n| 93720 | 4.77 |\n| 93721 | 3.04 |\n| 93722 | 2.07 |\n| 93723 | 3.69 |\n| 93724 | 0.42 |\n| 93725 | 5.00 |\n| 93726 | 1.85 |\n| 93727 | 5.00 |\n| 93728 | 5.00 |\n| 93729 | 0.83 |\n| 93730 |   NA |\n| 93731 | 5.00 |\n| 93732 | 1.13 |\n| ⋮ | ⋮ |\n| 102927 | 4.00 |\n| 102928 | 1.30 |\n| 102929 |   NA |\n| 102930 |   NA |\n| 102931 | 4.25 |\n| 102932 | 5.00 |\n| 102933 | 1.66 |\n| 102934 | 2.89 |\n| 102935 | 0.85 |\n| 102936 |   NA |\n| 102937 | 4.88 |\n| 102938 | 0.83 |\n| 102939 | 0.73 |\n| 102940 |   NA |\n| 102941 | 1.14 |\n| 102942 | 2.46 |\n| 102943 | 4.31 |\n| 102944 | 3.59 |\n| 102945 |   NA |\n| 102946 | 2.79 |\n| 102947 | 4.28 |\n| 102948 | 5.00 |\n| 102949 | 1.01 |\n| 102950 | 2.13 |\n| 102951 | 1.75 |\n| 102952 | 0.95 |\n| 102953 |   NA |\n| 102954 | 1.18 |\n| 102955 | 2.24 |\n| 102956 | 1.56 |\n\n",
            "text/html": [
              "<table>\n",
              "<caption>A tibble: 9254 × 2</caption>\n",
              "<thead>\n",
              "\t<tr><th scope=col>SEQN</th><th scope=col>INDFMPIR</th></tr>\n",
              "\t<tr><th scope=col>&lt;dbl&gt;</th><th scope=col>&lt;dbl&gt;</th></tr>\n",
              "</thead>\n",
              "<tbody>\n",
              "\t<tr><td>93703</td><td>5.00</td></tr>\n",
              "\t<tr><td>93704</td><td>5.00</td></tr>\n",
              "\t<tr><td>93705</td><td>0.82</td></tr>\n",
              "\t<tr><td>93706</td><td>  NA</td></tr>\n",
              "\t<tr><td>93707</td><td>1.88</td></tr>\n",
              "\t<tr><td>93708</td><td>1.63</td></tr>\n",
              "\t<tr><td>93709</td><td>0.41</td></tr>\n",
              "\t<tr><td>93710</td><td>4.90</td></tr>\n",
              "\t<tr><td>93711</td><td>5.00</td></tr>\n",
              "\t<tr><td>93712</td><td>0.76</td></tr>\n",
              "\t<tr><td>93713</td><td>2.65</td></tr>\n",
              "\t<tr><td>93714</td><td>1.86</td></tr>\n",
              "\t<tr><td>93715</td><td>1.56</td></tr>\n",
              "\t<tr><td>93716</td><td>5.00</td></tr>\n",
              "\t<tr><td>93717</td><td>1.49</td></tr>\n",
              "\t<tr><td>93718</td><td>1.18</td></tr>\n",
              "\t<tr><td>93719</td><td>3.92</td></tr>\n",
              "\t<tr><td>93720</td><td>4.77</td></tr>\n",
              "\t<tr><td>93721</td><td>3.04</td></tr>\n",
              "\t<tr><td>93722</td><td>2.07</td></tr>\n",
              "\t<tr><td>93723</td><td>3.69</td></tr>\n",
              "\t<tr><td>93724</td><td>0.42</td></tr>\n",
              "\t<tr><td>93725</td><td>5.00</td></tr>\n",
              "\t<tr><td>93726</td><td>1.85</td></tr>\n",
              "\t<tr><td>93727</td><td>5.00</td></tr>\n",
              "\t<tr><td>93728</td><td>5.00</td></tr>\n",
              "\t<tr><td>93729</td><td>0.83</td></tr>\n",
              "\t<tr><td>93730</td><td>  NA</td></tr>\n",
              "\t<tr><td>93731</td><td>5.00</td></tr>\n",
              "\t<tr><td>93732</td><td>1.13</td></tr>\n",
              "\t<tr><td>⋮</td><td>⋮</td></tr>\n",
              "\t<tr><td>102927</td><td>4.00</td></tr>\n",
              "\t<tr><td>102928</td><td>1.30</td></tr>\n",
              "\t<tr><td>102929</td><td>  NA</td></tr>\n",
              "\t<tr><td>102930</td><td>  NA</td></tr>\n",
              "\t<tr><td>102931</td><td>4.25</td></tr>\n",
              "\t<tr><td>102932</td><td>5.00</td></tr>\n",
              "\t<tr><td>102933</td><td>1.66</td></tr>\n",
              "\t<tr><td>102934</td><td>2.89</td></tr>\n",
              "\t<tr><td>102935</td><td>0.85</td></tr>\n",
              "\t<tr><td>102936</td><td>  NA</td></tr>\n",
              "\t<tr><td>102937</td><td>4.88</td></tr>\n",
              "\t<tr><td>102938</td><td>0.83</td></tr>\n",
              "\t<tr><td>102939</td><td>0.73</td></tr>\n",
              "\t<tr><td>102940</td><td>  NA</td></tr>\n",
              "\t<tr><td>102941</td><td>1.14</td></tr>\n",
              "\t<tr><td>102942</td><td>2.46</td></tr>\n",
              "\t<tr><td>102943</td><td>4.31</td></tr>\n",
              "\t<tr><td>102944</td><td>3.59</td></tr>\n",
              "\t<tr><td>102945</td><td>  NA</td></tr>\n",
              "\t<tr><td>102946</td><td>2.79</td></tr>\n",
              "\t<tr><td>102947</td><td>4.28</td></tr>\n",
              "\t<tr><td>102948</td><td>5.00</td></tr>\n",
              "\t<tr><td>102949</td><td>1.01</td></tr>\n",
              "\t<tr><td>102950</td><td>2.13</td></tr>\n",
              "\t<tr><td>102951</td><td>1.75</td></tr>\n",
              "\t<tr><td>102952</td><td>0.95</td></tr>\n",
              "\t<tr><td>102953</td><td>  NA</td></tr>\n",
              "\t<tr><td>102954</td><td>1.18</td></tr>\n",
              "\t<tr><td>102955</td><td>2.24</td></tr>\n",
              "\t<tr><td>102956</td><td>1.56</td></tr>\n",
              "</tbody>\n",
              "</table>\n"
            ]
          },
          "metadata": {
            "tags": []
          }
        }
      ]
    },
    {
      "cell_type": "markdown",
      "metadata": {
        "id": "0Ul02EjSUpWP"
      },
      "source": [
        "# Submit the Lab"
      ]
    }
  ]
}